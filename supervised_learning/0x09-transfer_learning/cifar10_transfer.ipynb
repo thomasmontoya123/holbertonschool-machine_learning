{
  "nbformat": 4,
  "nbformat_minor": 0,
  "metadata": {
    "colab": {
      "name": "cifar10_transfer.ipynb",
      "provenance": []
    },
    "kernelspec": {
      "name": "python3",
      "display_name": "Python 3"
    },
    "accelerator": "GPU"
  },
  "cells": [
    {
      "cell_type": "code",
      "metadata": {
        "id": "_EO6YtBnTnl2",
        "colab_type": "code",
        "colab": {}
      },
      "source": [
        "%tensorflow_version 1.x"
      ],
      "execution_count": 6,
      "outputs": []
    },
    {
      "cell_type": "code",
      "metadata": {
        "id": "XQIVCGsYTIWo",
        "colab_type": "code",
        "colab": {}
      },
      "source": [
        "import tensorflow.keras as K\n",
        "import tensorflow as tf"
      ],
      "execution_count": 7,
      "outputs": []
    },
    {
      "cell_type": "code",
      "metadata": {
        "id": "PY1rIuQ6Oeot",
        "colab_type": "code",
        "colab": {
          "base_uri": "https://localhost:8080/",
          "height": 34
        },
        "outputId": "975962f6-280d-4dc7-fbe1-c050a1eb038e"
      },
      "source": [
        "device_name = tf.test.gpu_device_name()\n",
        "print(device_name)"
      ],
      "execution_count": 8,
      "outputs": [
        {
          "output_type": "stream",
          "text": [
            "/device:GPU:0\n"
          ],
          "name": "stdout"
        }
      ]
    },
    {
      "cell_type": "code",
      "metadata": {
        "id": "OKSiS6okT0sA",
        "colab_type": "code",
        "colab": {}
      },
      "source": [
        "def preprocess_data(X, Y):\n",
        "    \"\"\"\n",
        "    Pre-processes the data for the model\n",
        "\n",
        "        :param X: numpy.ndarray of shape (m, 32, 32, 3)\n",
        "            containing the CIFAR 10 data, where m is the\n",
        "            number of data points\n",
        "\n",
        "        :param Y: numpy.ndarray of shape (m,) containing\n",
        "            the CIFAR 10 labels for X\n",
        "\n",
        "        :returns: X_p, Y_p\n",
        "    \"\"\"\n",
        "    X_p = K.applications.densenet.preprocess_input(X)\n",
        "\n",
        "    # encode to one-hot\n",
        "    Y_p = K.utils.to_categorical(Y, 10)\n",
        "    return X_p, Y_p\n"
      ],
      "execution_count": 9,
      "outputs": []
    },
    {
      "cell_type": "code",
      "metadata": {
        "id": "vQro04MLp8WC",
        "colab_type": "code",
        "colab": {
          "base_uri": "https://localhost:8080/",
          "height": 751
        },
        "outputId": "2806cb57-f476-4edc-b3f3-f1a1100f8467"
      },
      "source": [
        "CALLBACKS = []\n",
        "MODEL_PATH = 'cifar10.h5'\n",
        "optimizer = K.optimizers.Adam()\n",
        "\n",
        "# load cifar 10\n",
        "(x_train, y_train), (x_test, y_test) = K.datasets.cifar10.load_data()\n",
        "\n",
        "# pre-procces data\n",
        "x_train, y_train = preprocess_data(x_train, y_train)\n",
        "x_test, y_test = preprocess_data(x_test, y_test)\n",
        "\n",
        "# input tensor\n",
        "inputs = K.Input(shape=(32, 32, 3))\n",
        "\n",
        "# upscale layer\n",
        "upscale = K.layers.Lambda(lambda x: tf.image.resize_image_with_pad(x,\n",
        "                                                                  160,\n",
        "                                                                  160,\n",
        "                                                                  method=tf.image.ResizeMethod.BILINEAR))(inputs)\n",
        "\n",
        "# load base model\n",
        "base_model = K.applications.DenseNet121(include_top=False,\n",
        "                                        weights='imagenet',\n",
        "                                        input_tensor=upscale,\n",
        "                                        input_shape=(160,160,3),\n",
        "                                        pooling='max')\n",
        "\n",
        "\n",
        "\n",
        "# add top layers\n",
        "out = base_model.output\n",
        "out = K.layers.Flatten()(out)\n",
        "out = K.layers.BatchNormalization()(out)\n",
        "out = K.layers.Dense(256, activation='relu')(out)\n",
        "out = K.layers.Dropout(0.3)(out)\n",
        "out = K.layers.BatchNormalization()(out)\n",
        "out = K.layers.Dense(128, activation='relu')(out)\n",
        "out = K.layers.Dropout(0.3)(out)\n",
        "out = K.layers.BatchNormalization()(out)\n",
        "out = K.layers.Dense(64, activation='relu')(out)\n",
        "out = K.layers.Dropout(0.3)(out)\n",
        "out = K.layers.Dense(10, activation='softmax')(out)\n",
        "\n",
        "# callbacks\n",
        "CALLBACKS.append(K.callbacks.ModelCheckpoint(filepath=MODEL_PATH,\n",
        "                                              monitor='val_acc',\n",
        "                                              save_best_only=True))\n",
        "\n",
        "CALLBACKS.append(K.callbacks.EarlyStopping(monitor='val_acc',\n",
        "                                            verbose=1,\n",
        "                                            patience=5))\n",
        "\n",
        "CALLBACKS.append(K.callbacks.TensorBoard(log_dir='logs'))\n",
        "\n",
        "# model compile\n",
        "model = K.models.Model(inputs=inputs, outputs=out)\n",
        "\n",
        "model.compile(optimizer=optimizer,\n",
        "              loss='categorical_crossentropy',\n",
        "              metrics=['accuracy'])\n",
        "\n",
        "\n",
        "# train\n",
        "model.fit(x=x_train,\n",
        "          y=y_train,\n",
        "          batch_size=128,\n",
        "          epochs=20,\n",
        "          callbacks=CALLBACKS,\n",
        "          validation_data=(x_test, y_test))"
      ],
      "execution_count": 10,
      "outputs": [
        {
          "output_type": "stream",
          "text": [
            "Train on 50000 samples, validate on 10000 samples\n",
            "Epoch 1/20\n",
            "50000/50000 [==============================] - 534s 11ms/sample - loss: 0.8024 - acc: 0.7468 - val_loss: 0.6295 - val_acc: 0.8085\n",
            "Epoch 2/20\n",
            "50000/50000 [==============================] - 349s 7ms/sample - loss: 0.3723 - acc: 0.8876 - val_loss: 0.4835 - val_acc: 0.8487\n",
            "Epoch 3/20\n",
            "50000/50000 [==============================] - 348s 7ms/sample - loss: 0.2911 - acc: 0.9108 - val_loss: 0.4082 - val_acc: 0.8720\n",
            "Epoch 4/20\n",
            "50000/50000 [==============================] - 348s 7ms/sample - loss: 0.2317 - acc: 0.9282 - val_loss: 0.3429 - val_acc: 0.8900\n",
            "Epoch 5/20\n",
            "50000/50000 [==============================] - 347s 7ms/sample - loss: 0.1993 - acc: 0.9380 - val_loss: 0.3609 - val_acc: 0.8875\n",
            "Epoch 6/20\n",
            "50000/50000 [==============================] - 348s 7ms/sample - loss: 0.1746 - acc: 0.9451 - val_loss: 0.3016 - val_acc: 0.9061\n",
            "Epoch 7/20\n",
            "50000/50000 [==============================] - 347s 7ms/sample - loss: 0.1556 - acc: 0.9509 - val_loss: 0.4486 - val_acc: 0.8744\n",
            "Epoch 8/20\n",
            "50000/50000 [==============================] - 346s 7ms/sample - loss: 0.1331 - acc: 0.9590 - val_loss: 0.3254 - val_acc: 0.9029\n",
            "Epoch 9/20\n",
            "50000/50000 [==============================] - 346s 7ms/sample - loss: 0.1235 - acc: 0.9618 - val_loss: 0.3673 - val_acc: 0.8956\n",
            "Epoch 10/20\n",
            "50000/50000 [==============================] - 347s 7ms/sample - loss: 0.1132 - acc: 0.9645 - val_loss: 0.3193 - val_acc: 0.9107\n",
            "Epoch 11/20\n",
            "50000/50000 [==============================] - 346s 7ms/sample - loss: 0.1008 - acc: 0.9678 - val_loss: 0.3280 - val_acc: 0.9078\n",
            "Epoch 12/20\n",
            "50000/50000 [==============================] - 345s 7ms/sample - loss: 0.0940 - acc: 0.9713 - val_loss: 0.3248 - val_acc: 0.9099\n",
            "Epoch 13/20\n",
            "50000/50000 [==============================] - 346s 7ms/sample - loss: 0.0887 - acc: 0.9727 - val_loss: 0.3612 - val_acc: 0.9008\n",
            "Epoch 14/20\n",
            "50000/50000 [==============================] - 346s 7ms/sample - loss: 0.0802 - acc: 0.9750 - val_loss: 0.3190 - val_acc: 0.9115\n",
            "Epoch 15/20\n",
            "50000/50000 [==============================] - 345s 7ms/sample - loss: 0.0788 - acc: 0.9750 - val_loss: 0.4246 - val_acc: 0.8814\n",
            "Epoch 16/20\n",
            "50000/50000 [==============================] - 346s 7ms/sample - loss: 0.0726 - acc: 0.9777 - val_loss: 0.3419 - val_acc: 0.9101\n",
            "Epoch 17/20\n",
            "50000/50000 [==============================] - 347s 7ms/sample - loss: 0.0721 - acc: 0.9780 - val_loss: 0.3266 - val_acc: 0.9119\n",
            "Epoch 18/20\n",
            "50000/50000 [==============================] - 346s 7ms/sample - loss: 0.0600 - acc: 0.9811 - val_loss: 0.3066 - val_acc: 0.9231\n",
            "Epoch 19/20\n",
            "50000/50000 [==============================] - 345s 7ms/sample - loss: 0.0623 - acc: 0.9808 - val_loss: 0.3202 - val_acc: 0.9205\n",
            "Epoch 20/20\n",
            "50000/50000 [==============================] - 346s 7ms/sample - loss: 0.0614 - acc: 0.9809 - val_loss: 0.2649 - val_acc: 0.9272\n"
          ],
          "name": "stdout"
        },
        {
          "output_type": "execute_result",
          "data": {
            "text/plain": [
              "<tensorflow.python.keras.callbacks.History at 0x7f0af909ff98>"
            ]
          },
          "metadata": {
            "tags": []
          },
          "execution_count": 10
        }
      ]
    },
    {
      "cell_type": "markdown",
      "metadata": {
        "id": "4SjW13g30OsO",
        "colab_type": "text"
      },
      "source": [
        "Epoch 20/20\n",
        "50000/50000 [==============================] - 346s 7ms/sample - loss: 0.0614 - acc: 0.9809 - val_loss: 0.2649 - val_acc: 0.9272\n",
        "\n",
        "\n",
        "<tensorflow.python.keras.callbacks.History at 0x7f0af909ff98>\n"
      ]
    },
    {
      "cell_type": "code",
      "metadata": {
        "id": "-bBv1zpkn4Me",
        "colab_type": "code",
        "colab": {
          "base_uri": "https://localhost:8080/",
          "height": 51
        },
        "outputId": "413a803c-0933-4a64-f614-c925a1dcbfea"
      },
      "source": [
        "model.evaluate(x_test, y_test, batch_size=128, verbose=1)"
      ],
      "execution_count": 11,
      "outputs": [
        {
          "output_type": "stream",
          "text": [
            "10000/10000 [==============================] - 18s 2ms/sample - loss: 0.2649 - acc: 0.9272\n"
          ],
          "name": "stdout"
        },
        {
          "output_type": "execute_result",
          "data": {
            "text/plain": [
              "[0.26489971187114714, 0.9272]"
            ]
          },
          "metadata": {
            "tags": []
          },
          "execution_count": 11
        }
      ]
    },
    {
      "cell_type": "code",
      "metadata": {
        "id": "B8WFdJf5Fl4v",
        "colab_type": "code",
        "colab": {}
      },
      "source": [
        "10000/10000 [==============================] - 18s 2ms/sample - loss: 0.2649 - acc: 0.9272\n",
        "[0.26489971187114714, 0.9272]"
      ],
      "execution_count": null,
      "outputs": []
    }
  ]
}